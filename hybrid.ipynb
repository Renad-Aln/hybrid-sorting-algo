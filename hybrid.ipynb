{
 "cells": [
  {
   "cell_type": "markdown",
   "id": "58ba4191",
   "metadata": {},
   "source": [
    "## Hybrid Sorting Algorithm (insertion sort + Quick sort)"
   ]
  },
  {
   "cell_type": "code",
   "execution_count": 23,
   "id": "010fd01e",
   "metadata": {},
   "outputs": [
    {
     "name": "stdout",
     "output_type": "stream",
     "text": [
      "[987, 768, 635, 679, 111, 635, 423, 987, 635, 423, 132, 683, 987, 736, 908, 536, 432, 567, 453, 231, 187, 376, 875, 342, 684, 432, 573, 143, 846, 231, 324, 112, 674, 537, 564, 880, 524, 337, 908, 321, 987, 768, 564, 679, 444, 635, 423, 987, 101, 423, 132, 683, 987, 736, 908, 536, 432, 999, 453, 231, 187, 376, 875, 342, 684, 432, 573, 143, 846, 231, 324, 112, 674, 537, 564, 987, 524, 337, 908, 100]\n",
      "Time taken to run: 0.0010051727294921875 seconds\n",
      "After sorting: \n",
      "[100, 101, 111, 112, 112, 132, 132, 143, 143, 187, 187, 231, 231, 231, 231, 321, 324, 324, 337, 337, 342, 342, 376, 376, 423, 423, 423, 423, 432, 432, 432, 432, 444, 453, 453, 524, 524, 536, 536, 537, 537, 564, 564, 564, 567, 573, 573, 635, 635, 635, 635, 674, 674, 679, 679, 683, 683, 684, 684, 736, 736, 768, 768, 846, 846, 875, 875, 880, 908, 908, 908, 908, 987, 987, 987, 987, 987, 987, 987, 999]\n"
     ]
    }
   ],
   "source": [
    "# Python implementation of the hybrid sort\n",
    "from time import *\n",
    "# the threshold that we got\n",
    "threshold = 40 \n",
    "\n",
    "def insertion_sort(arr):\n",
    "    \n",
    "    for i in range(1,len(arr)):\n",
    "        new_list=arr[i]\n",
    "        j=i-1\n",
    "        while j>=0 and arr[j]>new_list:\n",
    "            arr[j+1]=arr[j]\n",
    "            j-=1\n",
    "        arr[j+1] =new_list\n",
    "\n",
    "def partition(array, low, high):\n",
    "    \n",
    "    pivot = array[high]\n",
    "\n",
    "    i = low - 1\n",
    "\n",
    "    for j in range(low, high):\n",
    "        if array[j] <= pivot:\n",
    "            i = i + 1\n",
    "            (array[i], array[j]) = (array[j], array[i])\n",
    "\n",
    "\n",
    "    (array[i + 1], array[high]) = (array[high], array[i + 1])\n",
    "\n",
    "  \n",
    "    return i + 1\n",
    "\n",
    "def quickSort(array, low, high):\n",
    "    \n",
    "    if low < high: \n",
    "        pi = partition(array, low, high)\n",
    "   \n",
    "        quickSort(array, low, pi - 1)\n",
    " \n",
    "        quickSort(array, pi + 1, high)\n",
    "    \n",
    "\n",
    "def hybrid_quick_sort(arr, low, high):\n",
    " \n",
    "        if high-low + 1<threshold:\n",
    "            insertion_sort(arr)\n",
    "            \n",
    " \n",
    "        else:\n",
    "            pivot = partition(arr, low, high)\n",
    " \n",
    "            if pivot-low>threshold:\n",
    "                quickSort(arr, low, pivot-1)\n",
    "        \n",
    "            else:     \n",
    "                hybrid_quick_sort(arr,low, pivot -1)\n",
    "               \n",
    "            if high - pivot>threshold:\n",
    "                quickSort(arr, pivot, high)\n",
    "            else:\n",
    "                hybrid_quick_sort(arr,pivot, high)\n",
    "\n",
    "# take the list from file\n",
    "with open(\"data3.txt\",\"r\") as f:\n",
    "    list1 = f.read().split(\" \") \n",
    "    list1 = [int(x) for x in list1]\n",
    "    f.close()\n",
    "\n",
    "print(list1)\n",
    "num =len(list1)\n",
    "\n",
    "#calculate the time\n",
    "start= time()\n",
    "hybrid_quick_sort (list1 , 0, num-1)\n",
    "print(f'Time taken to run: {time() - start} seconds')\n",
    "\n",
    "\n",
    "print(\"After sorting: \")\n",
    "print(list1)"
   ]
  },
  {
   "cell_type": "markdown",
   "id": "a0920e32",
   "metadata": {},
   "source": [
    "## insertion sort"
   ]
  },
  {
   "cell_type": "code",
   "execution_count": 9,
   "id": "08bf43b6",
   "metadata": {},
   "outputs": [
    {
     "name": "stdout",
     "output_type": "stream",
     "text": [
      " -- Program sort lists using insertion Sort --\n",
      "Your list is:\n",
      "[987, 768, 635, 679, 111, 635, 423, 987, 635, 423, 132, 683, 987, 736, 908, 536, 432, 567, 453, 231, 187, 376, 875, 342, 684, 432, 573, 143, 846, 231, 324, 112, 674, 537, 564, 880, 524, 337, 908, 321, 987, 768, 564, 679, 444, 635, 423, 987, 101, 423, 132, 683, 987, 736, 908, 536, 432, 999, 453, 231, 187, 376, 875, 342, 684, 432, 573, 143, 846, 231, 324, 112, 674, 537, 564, 987, 524, 337, 908, 100]\n",
      "Time taken to run :0.008524179458618164 seconds\n",
      "After sorting: \n",
      "[100, 101, 111, 112, 112, 132, 132, 143, 143, 187, 187, 231, 231, 231, 231, 321, 324, 324, 337, 337, 342, 342, 376, 376, 423, 423, 423, 423, 432, 432, 432, 432, 444, 453, 453, 524, 524, 536, 536, 537, 537, 564, 564, 564, 567, 573, 573, 635, 635, 635, 635, 674, 674, 679, 679, 683, 683, 684, 684, 736, 736, 768, 768, 846, 846, 875, 875, 880, 908, 908, 908, 908, 987, 987, 987, 987, 987, 987, 987, 999]\n"
     ]
    }
   ],
   "source": [
    "# Python implementation of the insertion sort\n",
    "from time import *\n",
    "\n",
    "print(\" -- Program sort lists using insertion Sort --\")\n",
    "\n",
    "def insertion_sort(arr):\n",
    "    for i in range(1,len(arr)):\n",
    "        new_list=arr[i]\n",
    "        j=i-1\n",
    "        while j>=0 and arr[j]>new_list:\n",
    "            arr[j+1]=arr[j]\n",
    "            j-=1\n",
    "        arr[j+1] =new_list\n",
    "\n",
    "# take the list from file\n",
    "with open(\"data3.txt\",\"r\") as f: \n",
    "\n",
    "    lst = f.read().split(\" \") \n",
    "    lst = [int(x) for x in lst]\n",
    "    f.close()\n",
    "\n",
    "# print list before sorting\n",
    "print(\"Your list is:\")\n",
    "print(lst)\n",
    "\n",
    "#calculate the time\n",
    "start=time()\n",
    "insertion_sort(lst)\n",
    "print(f'Time taken to run :{time()-start} seconds')\n",
    "\n",
    "# print list after sorting\n",
    "print(\"After sorting: \")\n",
    "print(lst)\n"
   ]
  },
  {
   "cell_type": "markdown",
   "id": "7de700d2",
   "metadata": {},
   "source": [
    "## Quick sort"
   ]
  },
  {
   "cell_type": "code",
   "execution_count": 27,
   "id": "261b351a",
   "metadata": {},
   "outputs": [
    {
     "name": "stdout",
     "output_type": "stream",
     "text": [
      " -- Program sort lists using Quick Sort --\n",
      "Your list is:\n",
      "[987, 768, 635, 679, 111, 635, 423, 987, 635, 423, 132, 683, 987, 736, 908, 536, 432, 567, 453, 231, 187, 376, 875, 342, 684, 432, 573, 143, 846, 231, 324, 112, 674, 537, 564, 880, 524, 337, 908, 321, 987, 768, 564, 679, 444, 635, 423, 987, 101, 423, 132, 683, 987, 736, 908, 536, 432, 999, 453, 231, 187, 376, 875, 342, 684, 432, 573, 143, 846, 231, 324, 112, 674, 537, 564, 987, 524, 337, 908, 100]\n",
      "Time taken to run: 0.0010650157928466797 seconds\n",
      "After sorting: \n",
      "[100, 101, 111, 112, 112, 132, 132, 143, 143, 187, 187, 231, 231, 231, 231, 321, 324, 324, 337, 337, 342, 342, 376, 376, 423, 423, 423, 423, 432, 432, 432, 432, 444, 453, 453, 524, 524, 536, 536, 537, 537, 564, 564, 564, 567, 573, 573, 635, 635, 635, 635, 674, 674, 679, 679, 683, 683, 684, 684, 736, 736, 768, 768, 846, 846, 875, 875, 880, 908, 908, 908, 908, 987, 987, 987, 987, 987, 987, 987, 999]\n"
     ]
    }
   ],
   "source": [
    "# Python implementation of the Quick sort\n",
    "from time import * \n",
    "\n",
    "print(\" -- Program sort lists using Quick Sort --\")\n",
    "\n",
    "def partition(array, low, high):\n",
    "    \n",
    "    pivot = array[high]\n",
    "\n",
    "    i = low - 1\n",
    "\n",
    "    for j in range(low, high):\n",
    "        if array[j] <= pivot:\n",
    "            i = i + 1\n",
    "            (array[i], array[j]) = (array[j], array[i])\n",
    "\n",
    "\n",
    "    (array[i + 1], array[high]) = (array[high], array[i + 1])\n",
    "\n",
    "  \n",
    "    return i + 1\n",
    "\n",
    "def quickSort(array, low, high):\n",
    "    if low < high: \n",
    "        pi = partition(array, low, high)\n",
    "   \n",
    "        quickSort(array, low, pi - 1)\n",
    " \n",
    "        quickSort(array, pi + 1, high)\n",
    "\n",
    "# take the list from file\n",
    "with open(\"data3.txt\",\"r\") as f:\n",
    "\n",
    "    list1 = f.read().split(\" \") \n",
    "    list1 = [int(x) for x in list1]\n",
    "    f.close()\n",
    "\n",
    "# print list before sorting\n",
    "print(\"Your list is:\")\n",
    "print(list1)\n",
    "\n",
    "num =len(list1)\n",
    "\n",
    "#calculate the time\n",
    "start= time()\n",
    "quickSort (list1 , 0, num-1)\n",
    "print(f'Time taken to run: {time() - start} seconds')\n",
    "\n",
    "# print list after sorting\n",
    "print(\"After sorting: \")\n",
    "print(list1)\n",
    "\n"
   ]
  }
 ],
 "metadata": {
  "kernelspec": {
   "display_name": "Python 3 (ipykernel)",
   "language": "python",
   "name": "python3"
  },
  "language_info": {
   "codemirror_mode": {
    "name": "ipython",
    "version": 3
   },
   "file_extension": ".py",
   "mimetype": "text/x-python",
   "name": "python",
   "nbconvert_exporter": "python",
   "pygments_lexer": "ipython3",
   "version": "3.9.12"
  }
 },
 "nbformat": 4,
 "nbformat_minor": 5
}
